{
 "cells": [
  {
   "cell_type": "code",
   "execution_count": null,
   "metadata": {},
   "outputs": [],
   "source": [
    "import sys\n",
    "sys.path.append('..')\n",
    "\n",
    "import xarray as xr\n",
    "import xvelmap"
   ]
  },
  {
   "cell_type": "code",
   "execution_count": null,
   "metadata": {},
   "outputs": [],
   "source": [
    "ds1 = xr.open_dataset('wind-global.nc')\n",
    "\n",
    "ds1"
   ]
  },
  {
   "cell_type": "code",
   "execution_count": null,
   "metadata": {},
   "outputs": [],
   "source": [
    "ds1.xvelmap.plot(\n",
    "    'u_wind', 'v_wind', lat_dim='lat', lon_dim='lon',\n",
    "    velocity_type='global wind', field_name='global wind',\n",
    "    velocity_scale=0.01, max_velocity=20.,\n",
    "    latlon_center=[45, 1], zoom=4\n",
    ")"
   ]
  },
  {
   "cell_type": "code",
   "execution_count": null,
   "metadata": {},
   "outputs": [],
   "source": [
    "ds2 = xr.open_dataset('uvwnd.10m.gauss.2018.nc')\n",
    "\n",
    "ds2"
   ]
  },
  {
   "cell_type": "code",
   "execution_count": null,
   "metadata": {},
   "outputs": [],
   "source": [
    "ds2.sel(time='2018-02-04').xvelmap.plot(\n",
    "    'uwnd', 'vwnd', lat_dim='lat', lon_dim='lon',\n",
    "    velocity_type='global wind', field_name='NCEP 10m wind',\n",
    "    velocity_scale=0.01, max_velocity=20.,\n",
    "    latlon_center=[45, 1], zoom=4\n",
    ")"
   ]
  },
  {
   "cell_type": "code",
   "execution_count": null,
   "metadata": {},
   "outputs": [],
   "source": []
  }
 ],
 "metadata": {
  "kernelspec": {
   "display_name": "Python 3",
   "language": "python",
   "name": "python3"
  },
  "language_info": {
   "codemirror_mode": {
    "name": "ipython",
    "version": 3
   },
   "file_extension": ".py",
   "mimetype": "text/x-python",
   "name": "python",
   "nbconvert_exporter": "python",
   "pygments_lexer": "ipython3",
   "version": "3.6.4"
  }
 },
 "nbformat": 4,
 "nbformat_minor": 2
}
